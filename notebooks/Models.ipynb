{
 "cells": [
  {
   "cell_type": "code",
   "execution_count": 1,
   "source": [
    "# Prediction Function\r\n",
    "\r\n",
    "def model_predictions(model, X_train, X_test, y_train, y_test):\r\n",
    "    \r\n",
    "    y_hat_train = model.predict(X_train)\r\n",
    "    y_hat_test = model.predict(X_test)\r\n",
    "    \r\n",
    "    train_residuals = np.abs(y_train - y_hat_train)\r\n",
    "    print('Training Values','\\n', pd.Series(train_residuals).value_counts())\r\n",
    "    print('------------------------------------')\r\n",
    "    print('Training Accuracy','\\n', pd.Series(train_residuals).value_counts(normalize=True))\r\n",
    "    print('\\n\\n')\r\n",
    "    \r\n",
    "    test_residuals = np.abs(y_test - y_hat_test)\r\n",
    "    print('Testing Values: ','\\n', pd.Series(test_residuals).value_counts())\r\n",
    "    print('------------------------------------')\r\n",
    "    print('Testing Accuracy: ','\\n', pd.Series(test_residuals).value_counts(normalize=True))"
   ],
   "outputs": [],
   "metadata": {}
  },
  {
   "cell_type": "code",
   "execution_count": 2,
   "source": [
    "# Confusion Matrix\r\n",
    "\r\n",
    "def confusion_matrix(model, X_test, y_test):\r\n",
    "\r\n",
    "    plot_confusion_matrix(model, X_test, y_test, cmap=plt.cm.Blues)\r\n",
    "    plt.show()\r\n",
    "\r\n",
    "    y_pred = model.predict(X_test)\r\n",
    "\r\n",
    "    print('------------------------------------')\r\n",
    "    # print('Accuracy Score:')\r\n",
    "    # print(accuracy_score(y_test, y_pred)\r\n",
    "    print(\"Testing Accuracy for Our Classifier: {:.4}%\".format(accuracy_score(y_test, y_pred) * 100))\r\n",
    "\r\n",
    "    \r\n",
    "    print('------------------------------------')\r\n",
    "    print('Classification Matrix:')\r\n",
    "    print(classification_report(y_test, y_pred))"
   ],
   "outputs": [],
   "metadata": {}
  },
  {
   "cell_type": "code",
   "execution_count": 3,
   "source": [
    "# ROC Curve Function \r\n",
    "\r\n",
    "def plot_roc(model, X_train, X_test, y_train, y_test):\r\n",
    "\r\n",
    "    \"\"\"\r\n",
    "    Input: Model, Train and Test data.\r\n",
    "    Output: Train and Test AUC, Roc Curve for Train and Test sets.\r\n",
    "    This function works for classification models with decision_function attribute.\r\n",
    "    \"\"\"\r\n",
    "    y_train_score = model.decision_function(X_train)\r\n",
    "    y_test_score = model.decision_function(X_test)\r\n",
    "    \r\n",
    "    train_fpr, train_tpr, train_thresholds = roc_curve(y_train, y_train_score)\r\n",
    "    test_fpr, test_tpr, test_thresholds = roc_curve(y_test, y_test_score)\r\n",
    "    \r\n",
    "    print('Train AUC: {}'.format(auc(train_fpr, train_tpr)))\r\n",
    "    print('Test AUC: {}'.format(auc(test_fpr, test_tpr)))\r\n",
    "    print('------------------------------------')\r\n",
    "    \r\n",
    "    plt.figure(figsize=(10, 8))\r\n",
    "    lw = 2\r\n",
    "    \r\n",
    "    plt.plot(train_fpr, train_tpr, color='blue',\r\n",
    "             lw=lw, label='Train ROC curve')\r\n",
    "    plt.plot(test_fpr, test_tpr, color='darkorange',\r\n",
    "             lw=lw, label='Test ROC curve')\r\n",
    "    \r\n",
    "    plt.plot([0, 1], [0, 1], color='navy', lw=lw, linestyle='--')\r\n",
    "    plt.xlim([0.0, 1.0])\r\n",
    "    plt.ylim([0.0, 1.05])\r\n",
    "    plt.yticks([i/20.0 for i in range(21)])\r\n",
    "    plt.xticks([i/20.0 for i in range(21)])\r\n",
    "    plt.xlabel('False Positive Rate')\r\n",
    "    plt.ylabel('True Positive Rate')\r\n",
    "    plt.title('Receiver operating characteristic (ROC) Curve')\r\n",
    "    plt.legend(loc='lower right')\r\n",
    "    plt.show()"
   ],
   "outputs": [],
   "metadata": {}
  },
  {
   "cell_type": "code",
   "execution_count": 4,
   "source": [
    "# Model Control Function \r\n",
    "def model_control(model, X_train, X_test, y_train, y_test):\r\n",
    "\r\n",
    "    \"\"\"\r\n",
    "    This function includes all the functions we created above.\r\n",
    "    ROC Curve has decision_function attribute.\r\n",
    "    \"\"\"\r\n",
    "\r\n",
    "    model.fit(X_train, y_train)\r\n",
    "    print('Train Score:', model.score(X_train, y_train))\r\n",
    "    print('Test Score:', model.score(X_test, y_test))\r\n",
    "    print('------------------------------------')\r\n",
    "\r\n",
    "    model_predictions(model, X_train, X_test, y_train, y_test)\r\n",
    "    confusion_matrix(model, X_test, y_test)\r\n",
    "    plot_roc(model, X_train, X_test, y_train, y_test)"
   ],
   "outputs": [],
   "metadata": {}
  },
  {
   "cell_type": "code",
   "execution_count": 5,
   "source": [
    "# Feature Importance Plot Function\r\n",
    "\r\n",
    "def plot_feature_importances(model, X, X_train):\r\n",
    "    n_features = X_train.shape[1]\r\n",
    "    sns.set_style('darkgrid')\r\n",
    "    plt.figure(figsize=(8, 11))\r\n",
    "    plt.barh(range(n_features), model.feature_importances_, align='center') \r\n",
    "    plt.yticks(np.arange(n_features), X.columns.values, fontsize=13) \r\n",
    "    plt.xlabel('Importance', fontsize=16)\r\n",
    "    plt.ylabel('Feature', fontsize=16)\r\n",
    "    plt.title('Feature Importance', fontsize=20)"
   ],
   "outputs": [],
   "metadata": {}
  },
  {
   "cell_type": "code",
   "execution_count": null,
   "source": [],
   "outputs": [],
   "metadata": {}
  }
 ],
 "metadata": {
  "orig_nbformat": 4,
  "language_info": {
   "name": "python",
   "version": "3.8.8",
   "mimetype": "text/x-python",
   "codemirror_mode": {
    "name": "ipython",
    "version": 3
   },
   "pygments_lexer": "ipython3",
   "nbconvert_exporter": "python",
   "file_extension": ".py"
  },
  "kernelspec": {
   "name": "python3",
   "display_name": "Python 3.8.8 64-bit ('base': conda)"
  },
  "interpreter": {
   "hash": "89604f32a09a23093b8c29c6d78b3ad49d7a5901c07f2c5c9e08432c33627854"
  }
 },
 "nbformat": 4,
 "nbformat_minor": 2
}